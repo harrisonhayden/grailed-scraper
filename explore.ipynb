{
 "cells": [
  {
   "cell_type": "code",
   "execution_count": 36,
   "metadata": {},
   "outputs": [],
   "source": [
    "from selenium import webdriver\n",
    "from selenium.webdriver.common.keys import Keys\n",
    "from selenium.webdriver.common.by import By\n",
    "from selenium.webdriver.support.ui import WebDriverWait\n",
    "from selenium.webdriver.support import expected_conditions as EC\n",
    "import pandas as pd\n",
    "import time"
   ]
  },
  {
   "cell_type": "code",
   "execution_count": null,
   "metadata": {},
   "outputs": [],
   "source": [
    "driver = webdriver.Chrome('C:/Users/flame/Downloads/chromedriver_win32/chromedriver.exe')\n",
    "driver.get('https://www.grailed.com/shop/qLrVcUeOXw')"
   ]
  },
  {
   "cell_type": "code",
   "execution_count": null,
   "metadata": {},
   "outputs": [],
   "source": [
    "# Get scroll height after first time page load\n",
    "# last_height = driver.execute_script(\"return document.body.scrollHeight\")\n",
    "# while True:\n",
    "#     # Scroll down to bottom\n",
    "#     driver.execute_script(\"window.scrollTo(0, document.body.scrollHeight);\")\n",
    "#     # Wait to load page\n",
    "#     time.sleep(2)\n",
    "#     # Calculate new scroll height and compare with last scroll height\n",
    "#     new_height = driver.execute_script(\"return document.body.scrollHeight\")\n",
    "#     if new_height == last_height:\n",
    "#         break\n",
    "#     last_height = new_height\n",
    "\n",
    "titles = driver.find_elements(By.CLASS_NAME, 'listing-price')\n"
   ]
  },
  {
   "cell_type": "code",
   "execution_count": null,
   "metadata": {},
   "outputs": [],
   "source": [
    "title_list = []\n",
    "for title in titles:\n",
    "    title_list.append(title.text)\n",
    "title_list"
   ]
  },
  {
   "cell_type": "code",
   "execution_count": null,
   "metadata": {},
   "outputs": [],
   "source": [
    "def get_titles(i):\n",
    "    for price in wait.until(EC.presence_of_all_elements_located((By.CLASS_NAME, 'listing-title'))):\n",
    "        print(f'Appending price for item #{i}', end='\\r')\n",
    "        prices.append(price.text)\n",
    "        i+= 1"
   ]
  },
  {
   "cell_type": "code",
   "execution_count": 66,
   "metadata": {},
   "outputs": [
    {
     "name": "stderr",
     "output_type": "stream",
     "text": [
      "C:\\Users\\flame\\AppData\\Local\\Temp\\ipykernel_11308\\2602472522.py:1: DeprecationWarning: executable_path has been deprecated, please pass in a Service object\n",
      "  with webdriver.Chrome('C:/Users/flame/Downloads/chromedriver_win32/chromedriver.exe') as driver:\n"
     ]
    },
    {
     "name": "stdout",
     "output_type": "stream",
     "text": [
      "Appending price for item #1003\r"
     ]
    }
   ],
   "source": [
    "with webdriver.Chrome('C:/Users/flame/Downloads/chromedriver_win32/chromedriver.exe') as driver:\n",
    "    wait = WebDriverWait(driver, 10)\n",
    "    driver.get('https://www.grailed.com/shop/qLrVcUeOXw')\n",
    "    j = 1\n",
    "    for item in range(500):\n",
    "        wait.until(EC.visibility_of_element_located((By.TAG_NAME, 'body'))).send_keys(Keys.END)\n",
    "        print(f'Scroll #{j}', end='\\r')\n",
    "        j += 1\n",
    "        # time.sleep(3)\n",
    "    prices = []\n",
    "    i = 1\n",
    "    for price in wait.until(EC.presence_of_all_elements_located((By.CLASS_NAME, 'feed-item'))):\n",
    "        print(f'Appending price for item #{i}', end='\\r')\n",
    "        try:\n",
    "            link = price.find_element(By.CLASS_NAME, 'listing-item-link')\n",
    "            prices.append((link.get_attribute('href'), price.text))\n",
    "        except:\n",
    "            prices.append((None, price.text))\n",
    "        i+= 1"
   ]
  },
  {
   "cell_type": "code",
   "execution_count": 70,
   "metadata": {},
   "outputs": [
    {
     "name": "stdout",
     "output_type": "stream",
     "text": [
      "1003\n"
     ]
    }
   ],
   "source": [
    "print(len(prices))\n",
    "scroll_limit = pd.DataFrame(prices,columns=['link', 'info'])"
   ]
  },
  {
   "cell_type": "code",
   "execution_count": 71,
   "metadata": {},
   "outputs": [
    {
     "data": {
      "text/html": [
       "<div>\n",
       "<style scoped>\n",
       "    .dataframe tbody tr th:only-of-type {\n",
       "        vertical-align: middle;\n",
       "    }\n",
       "\n",
       "    .dataframe tbody tr th {\n",
       "        vertical-align: top;\n",
       "    }\n",
       "\n",
       "    .dataframe thead th {\n",
       "        text-align: right;\n",
       "    }\n",
       "</style>\n",
       "<table border=\"1\" class=\"dataframe\">\n",
       "  <thead>\n",
       "    <tr style=\"text-align: right;\">\n",
       "      <th></th>\n",
       "      <th>link</th>\n",
       "      <th>info</th>\n",
       "    </tr>\n",
       "  </thead>\n",
       "  <tbody>\n",
       "    <tr>\n",
       "      <th>0</th>\n",
       "      <td>https://www.grailed.com/listings/28552687-mais...</td>\n",
       "      <td>2 days ago\\nMAISON MARGIELA\\nM\\nMaison Margiel...</td>\n",
       "    </tr>\n",
       "    <tr>\n",
       "      <th>1</th>\n",
       "      <td>https://www.grailed.com/listings/28595723-mais...</td>\n",
       "      <td>about 7 hours ago\\nMAISON MARGIELA\\nM\\nBoxy Sp...</td>\n",
       "    </tr>\n",
       "    <tr>\n",
       "      <th>2</th>\n",
       "      <td>https://www.grailed.com/listings/28550099-acne...</td>\n",
       "      <td>1 day ago(2 days)\\nACNE STUDIOS\\nM\\nAcne Studi...</td>\n",
       "    </tr>\n",
       "    <tr>\n",
       "      <th>3</th>\n",
       "      <td>https://www.grailed.com/listings/28594411-mais...</td>\n",
       "      <td>about 8 hours ago\\nMAISON MARGIELA\\nM\\nLogo Sl...</td>\n",
       "    </tr>\n",
       "    <tr>\n",
       "      <th>4</th>\n",
       "      <td>https://www.grailed.com/listings/28580613-mais...</td>\n",
       "      <td>about 23 hours ago\\nMAISON MARGIELA\\nM\\nMaison...</td>\n",
       "    </tr>\n",
       "    <tr>\n",
       "      <th>...</th>\n",
       "      <td>...</td>\n",
       "      <td>...</td>\n",
       "    </tr>\n",
       "    <tr>\n",
       "      <th>998</th>\n",
       "      <td>https://www.grailed.com/listings/28481908-nudi...</td>\n",
       "      <td>5 days ago\\nNUDIE JEANS\\n30\\nGrim Tim Replica ...</td>\n",
       "    </tr>\n",
       "    <tr>\n",
       "      <th>999</th>\n",
       "      <td>https://www.grailed.com/listings/28478144-our-...</td>\n",
       "      <td>5 days ago\\nOUR LEGACY\\nM\\nOur Legacy Grey Mar...</td>\n",
       "    </tr>\n",
       "    <tr>\n",
       "      <th>1000</th>\n",
       "      <td>None</td>\n",
       "      <td></td>\n",
       "    </tr>\n",
       "    <tr>\n",
       "      <th>1001</th>\n",
       "      <td>None</td>\n",
       "      <td></td>\n",
       "    </tr>\n",
       "    <tr>\n",
       "      <th>1002</th>\n",
       "      <td>None</td>\n",
       "      <td></td>\n",
       "    </tr>\n",
       "  </tbody>\n",
       "</table>\n",
       "<p>1003 rows × 2 columns</p>\n",
       "</div>"
      ],
      "text/plain": [
       "                                                   link  \\\n",
       "0     https://www.grailed.com/listings/28552687-mais...   \n",
       "1     https://www.grailed.com/listings/28595723-mais...   \n",
       "2     https://www.grailed.com/listings/28550099-acne...   \n",
       "3     https://www.grailed.com/listings/28594411-mais...   \n",
       "4     https://www.grailed.com/listings/28580613-mais...   \n",
       "...                                                 ...   \n",
       "998   https://www.grailed.com/listings/28481908-nudi...   \n",
       "999   https://www.grailed.com/listings/28478144-our-...   \n",
       "1000                                               None   \n",
       "1001                                               None   \n",
       "1002                                               None   \n",
       "\n",
       "                                                   info  \n",
       "0     2 days ago\\nMAISON MARGIELA\\nM\\nMaison Margiel...  \n",
       "1     about 7 hours ago\\nMAISON MARGIELA\\nM\\nBoxy Sp...  \n",
       "2     1 day ago(2 days)\\nACNE STUDIOS\\nM\\nAcne Studi...  \n",
       "3     about 8 hours ago\\nMAISON MARGIELA\\nM\\nLogo Sl...  \n",
       "4     about 23 hours ago\\nMAISON MARGIELA\\nM\\nMaison...  \n",
       "...                                                 ...  \n",
       "998   5 days ago\\nNUDIE JEANS\\n30\\nGrim Tim Replica ...  \n",
       "999   5 days ago\\nOUR LEGACY\\nM\\nOur Legacy Grey Mar...  \n",
       "1000                                                     \n",
       "1001                                                     \n",
       "1002                                                     \n",
       "\n",
       "[1003 rows x 2 columns]"
      ]
     },
     "execution_count": 71,
     "metadata": {},
     "output_type": "execute_result"
    }
   ],
   "source": [
    "scroll_limit"
   ]
  },
  {
   "cell_type": "code",
   "execution_count": null,
   "metadata": {},
   "outputs": [],
   "source": []
  }
 ],
 "metadata": {
  "interpreter": {
   "hash": "71fdff05b81c8e1edf83c38635acb8fe674a3f8cdb8522ca6c810a60cf757fde"
  },
  "kernelspec": {
   "display_name": "Python 3.9.2 64-bit",
   "language": "python",
   "name": "python3"
  },
  "language_info": {
   "codemirror_mode": {
    "name": "ipython",
    "version": 3
   },
   "file_extension": ".py",
   "mimetype": "text/x-python",
   "name": "python",
   "nbconvert_exporter": "python",
   "pygments_lexer": "ipython3",
   "version": "3.9.2"
  },
  "orig_nbformat": 4
 },
 "nbformat": 4,
 "nbformat_minor": 2
}
